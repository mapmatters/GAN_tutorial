{
  "nbformat": 4,
  "nbformat_minor": 0,
  "metadata": {
    "colab": {
      "name": "02_01_deep_learning_deep_neural_network",
      "provenance": [],
      "collapsed_sections": [],
      "authorship_tag": "ABX9TyNi6ZesU/seriCVxNAd0zQu",
      "include_colab_link": true
    },
    "kernelspec": {
      "name": "python3",
      "display_name": "Python 3"
    }
  },
  "cells": [
    {
      "cell_type": "markdown",
      "metadata": {
        "id": "view-in-github",
        "colab_type": "text"
      },
      "source": [
        "<a href=\"https://colab.research.google.com/github/mapmatters/GAN_tutorial/blob/master/02_01_deep_learning_deep_neural_network.ipynb\" target=\"_parent\"><img src=\"https://colab.research.google.com/assets/colab-badge.svg\" alt=\"Open In Colab\"/></a>"
      ]
    },
    {
      "cell_type": "code",
      "metadata": {
        "id": "w_weLlWEB80D",
        "colab_type": "code",
        "colab": {
          "base_uri": "https://localhost:8080/",
          "height": 119
        },
        "outputId": "6cffe524-c623-46e4-ccc0-640f25b26829"
      },
      "source": [
        "!git clone https://github.com/rickiepark/GDL_code.git"
      ],
      "execution_count": 1,
      "outputs": [
        {
          "output_type": "stream",
          "text": [
            "Cloning into 'GDL_code'...\n",
            "remote: Enumerating objects: 480, done.\u001b[K\n",
            "remote: Total 480 (delta 0), reused 0 (delta 0), pack-reused 480\u001b[K\n",
            "Receiving objects: 100% (480/480), 178.44 MiB | 13.24 MiB/s, done.\n",
            "Resolving deltas: 100% (224/224), done.\n",
            "Checking out files: 100% (77/77), done.\n"
          ],
          "name": "stdout"
        }
      ]
    },
    {
      "cell_type": "code",
      "metadata": {
        "id": "a3o4TeGjC1nr",
        "colab_type": "code",
        "colab": {
          "base_uri": "https://localhost:8080/",
          "height": 311
        },
        "outputId": "bf7b4199-8708-4170-93a0-bb593c26ecd5"
      },
      "source": [
        "import os\n",
        "os.chdir(\"/content/GDL_code\")\n",
        "\n",
        "plt.style.use(['dark_background'])\n",
        "plt.plot([0,1,12])\n",
        "plt.suptitle('figure title', color='w')"
      ],
      "execution_count": 24,
      "outputs": [
        {
          "output_type": "execute_result",
          "data": {
            "text/plain": [
              "Text(0.5, 0.98, 'figure title')"
            ]
          },
          "metadata": {
            "tags": []
          },
          "execution_count": 24
        },
        {
          "output_type": "display_data",
          "data": {
            "image/png": "[encoded data removed]",
            "text/plain": [
              "<Figure size 432x288 with 1 Axes>"
            ]
          },
          "metadata": {
            "tags": []
          }
        }
      ]
    },
    {
      "cell_type": "code",
      "metadata": {
        "id": "K8vnQpV3CGz9",
        "colab_type": "code",
        "colab": {
          "base_uri": "https://localhost:8080/",
          "height": 1000
        },
        "outputId": "d605d4e1-0e38-4aab-c01a-b033e9470d0c"
      },
      "source": [
        "# !pip install -r requirements.txt"
      ],
      "execution_count": 3,
      "outputs": [
        {
          "output_type": "stream",
          "text": [
            "Collecting absl-py==0.7.0\n",
            "\u001b[?25l  Downloading https://files.pythonhosted.org/packages/31/bc/ab68120d1d89ae23b694a55fe2aece2f91194313b71f9b05a80b32d3c24b/absl-py-0.7.0.tar.gz (96kB)\n",
            "\r\u001b[K     |███▍                            | 10kB 19.7MB/s eta 0:00:01\r\u001b[K     |██████▉                         | 20kB 1.8MB/s eta 0:00:01\r\u001b[K     |██████████▎                     | 30kB 2.3MB/s eta 0:00:01\r\u001b[K     |█████████████▋                  | 40kB 1.6MB/s eta 0:00:01\r\u001b[K     |█████████████████               | 51kB 1.9MB/s eta 0:00:01\r\u001b[K     |████████████████████▌           | 61kB 2.3MB/s eta 0:00:01\r\u001b[K     |███████████████████████▉        | 71kB 2.4MB/s eta 0:00:01\r\u001b[K     |███████████████████████████▎    | 81kB 2.6MB/s eta 0:00:01\r\u001b[K     |██████████████████████████████▊ | 92kB 3.0MB/s eta 0:00:01\r\u001b[K     |████████████████████████████████| 102kB 2.7MB/s \n",
            "\u001b[?25hCollecting appnope==0.1.0\n",
            "  Downloading https://files.pythonhosted.org/packages/87/a9/7985e6a53402f294c8f0e8eff3151a83f1fb901fa92909bb3ff29b4d22af/appnope-0.1.0-py2.py3-none-any.whl\n",
            "Collecting astor==0.7.1\n",
            "  Downloading https://files.pythonhosted.org/packages/35/6b/11530768cac581a12952a2aad00e1526b89d242d0b9f59534ef6e6a1752f/astor-0.7.1-py2.py3-none-any.whl\n",
            "Requirement already satisfied: backcall==0.1.0 in /usr/local/lib/python3.6/dist-packages (from -r requirements.txt (line 4)) (0.1.0)\n",
            "Requirement already satisfied: bleach==3.1.0 in /usr/local/lib/python3.6/dist-packages (from -r requirements.txt (line 5)) (3.1.0)\n",
            "Collecting cloudpickle==0.8.0\n",
            "  Downloading https://files.pythonhosted.org/packages/47/d5/efa7cacef5d3bdcd71d7053a698fb9b64a20fff5cb3c592efefa53ea5578/cloudpickle-0.8.0-py2.py3-none-any.whl\n",
            "Requirement already satisfied: cycler==0.10.0 in /usr/local/lib/python3.6/dist-packages (from -r requirements.txt (line 7)) (0.10.0)\n",
            "Collecting dask==1.1.1\n",
            "\u001b[?25l  Downloading https://files.pythonhosted.org/packages/7c/2b/cf9e5477bec3bd3b4687719876ea38e9d8c9dc9d3526365c74e836e6a650/dask-1.1.1-py2.py3-none-any.whl (701kB)\n",
            "\u001b[K     |████████████████████████████████| 706kB 7.8MB/s \n",
            "\u001b[?25hCollecting decorator==4.3.2\n",
            "  Downloading https://files.pythonhosted.org/packages/f1/cd/7c8240007e9716b14679bc217a1baefa4432aa30394f7e2ec40a52b1a708/decorator-4.3.2-py2.py3-none-any.whl\n",
            "Collecting defusedxml==0.5.0\n",
            "  Downloading https://files.pythonhosted.org/packages/87/1c/17f3e3935a913dfe2a5ca85fa5ccbef366bfd82eb318b1f75dadbf0affca/defusedxml-0.5.0-py2.py3-none-any.whl\n",
            "Requirement already satisfied: entrypoints==0.3 in /usr/local/lib/python3.6/dist-packages (from -r requirements.txt (line 11)) (0.3)\n",
            "Requirement already satisfied: gast==0.2.2 in /usr/local/lib/python3.6/dist-packages (from -r requirements.txt (line 12)) (0.2.2)\n",
            "Collecting grpcio==1.18.0\n",
            "\u001b[?25l  Downloading https://files.pythonhosted.org/packages/51/a3/489ce6a67047263e9b0da8784b2925c4f89b688a6e33073c5bb6c4c2867f/grpcio-1.18.0-cp36-cp36m-manylinux1_x86_64.whl (10.6MB)\n",
            "\u001b[K     |████████████████████████████████| 10.6MB 13.0MB/s \n",
            "\u001b[?25hCollecting h5py==2.9.0\n",
            "\u001b[?25l  Downloading https://files.pythonhosted.org/packages/30/99/d7d4fbf2d02bb30fb76179911a250074b55b852d34e98dd452a9f394ac06/h5py-2.9.0-cp36-cp36m-manylinux1_x86_64.whl (2.8MB)\n",
            "\u001b[K     |████████████████████████████████| 2.8MB 48.1MB/s \n",
            "\u001b[?25hCollecting ipykernel==5.1.0\n",
            "\u001b[?25l  Downloading https://files.pythonhosted.org/packages/d8/b0/f0be5c5ab335196f5cce96e5b889a4fcf5bfe462eb0acc05cd7e2caf65eb/ipykernel-5.1.0-py3-none-any.whl (113kB)\n",
            "\u001b[K     |████████████████████████████████| 122kB 59.1MB/s \n",
            "\u001b[?25hCollecting ipython==7.3.0\n",
            "\u001b[?25l  Downloading https://files.pythonhosted.org/packages/14/3b/3fcf422a99a04ee493e6a4fc3014e3c8ff484a7feed238fef68bdc285085/ipython-7.3.0-py3-none-any.whl (768kB)\n",
            "\u001b[K     |████████████████████████████████| 778kB 42.1MB/s \n",
            "\u001b[?25hRequirement already satisfied: ipython-genutils==0.2.0 in /usr/local/lib/python3.6/dist-packages (from -r requirements.txt (line 17)) (0.2.0)\n",
            "Collecting ipywidgets==7.4.2\n",
            "\u001b[?25l  Downloading https://files.pythonhosted.org/packages/30/9a/a008c7b1183fac9e52066d80a379b3c64eab535bd9d86cdc29a0b766fd82/ipywidgets-7.4.2-py2.py3-none-any.whl (111kB)\n",
            "\u001b[K     |████████████████████████████████| 112kB 49.0MB/s \n",
            "\u001b[?25hCollecting jedi==0.13.2\n",
            "\u001b[?25l  Downloading https://files.pythonhosted.org/packages/c2/bc/54d53f5bc4658380d0eca9055d72be4df45e5bfd91a4bac97da224a92553/jedi-0.13.2-py2.py3-none-any.whl (177kB)\n",
            "\u001b[K     |████████████████████████████████| 184kB 49.3MB/s \n",
            "\u001b[?25hCollecting Jinja2==2.10\n",
            "\u001b[?25l  Downloading https://files.pythonhosted.org/packages/7f/ff/ae64bacdfc95f27a016a7bed8e8686763ba4d277a78ca76f32659220a731/Jinja2-2.10-py2.py3-none-any.whl (126kB)\n",
            "\u001b[K     |████████████████████████████████| 133kB 42.8MB/s \n",
            "\u001b[?25hRequirement already satisfied: jsonschema==2.6.0 in /usr/local/lib/python3.6/dist-packages (from -r requirements.txt (line 21)) (2.6.0)\n",
            "Requirement already satisfied: jupyter==1.0.0 in /usr/local/lib/python3.6/dist-packages (from -r requirements.txt (line 22)) (1.0.0)\n",
            "Collecting jupyter-client==5.2.4\n",
            "\u001b[?25l  Downloading https://files.pythonhosted.org/packages/3b/c3/3043fe9ffd140d03c9d091a056794ccdc427c56ec19b8eea74f9ea0a498f/jupyter_client-5.2.4-py2.py3-none-any.whl (89kB)\n",
            "\u001b[K     |████████████████████████████████| 92kB 10.6MB/s \n",
            "\u001b[?25hCollecting jupyter-console==6.0.0\n",
            "  Downloading https://files.pythonhosted.org/packages/cb/ee/6374ae8c21b7d0847f9c3722dcdfac986b8e54fa9ad9ea66e1eb6320d2b8/jupyter_console-6.0.0-py2.py3-none-any.whl\n",
            "Collecting jupyter-core==4.4.0\n",
            "\u001b[?25l  Downloading https://files.pythonhosted.org/packages/1d/44/065d2d7bae7bebc06f1dd70d23c36da8c50c0f08b4236716743d706762a8/jupyter_core-4.4.0-py2.py3-none-any.whl (126kB)\n",
            "\u001b[K     |████████████████████████████████| 133kB 55.6MB/s \n",
            "\u001b[?25hCollecting Keras==2.2.4\n",
            "\u001b[?25l  Downloading https://files.pythonhosted.org/packages/5e/10/aa32dad071ce52b5502266b5c659451cfd6ffcbf14e6c8c4f16c0ff5aaab/Keras-2.2.4-py2.py3-none-any.whl (312kB)\n",
            "\u001b[K     |████████████████████████████████| 317kB 20.2MB/s \n",
            "\u001b[?25hCollecting Keras-Applications==1.0.7\n",
            "\u001b[?25l  Downloading https://files.pythonhosted.org/packages/90/85/64c82949765cfb246bbdaf5aca2d55f400f792655927a017710a78445def/Keras_Applications-1.0.7-py2.py3-none-any.whl (51kB)\n",
            "\u001b[K     |████████████████████████████████| 61kB 7.9MB/s \n",
            "\u001b[?25hCollecting Keras-Preprocessing==1.0.9\n",
            "\u001b[?25l  Downloading https://files.pythonhosted.org/packages/c0/bf/0315ef6a9fd3fc2346e85b0ff1f5f83ca17073f2c31ac719ab2e4da0d4a3/Keras_Preprocessing-1.0.9-py2.py3-none-any.whl (59kB)\n",
            "\u001b[K     |████████████████████████████████| 61kB 7.7MB/s \n",
            "\u001b[?25hCollecting kiwisolver==1.0.1\n",
            "\u001b[?25l  Downloading https://files.pythonhosted.org/packages/69/a7/88719d132b18300b4369fbffa741841cfd36d1e637e1990f27929945b538/kiwisolver-1.0.1-cp36-cp36m-manylinux1_x86_64.whl (949kB)\n",
            "\u001b[K     |████████████████████████████████| 952kB 53.9MB/s \n",
            "\u001b[?25hCollecting Markdown==3.0.1\n",
            "\u001b[?25l  Downloading https://files.pythonhosted.org/packages/7a/6b/5600647404ba15545ec37d2f7f58844d690baf2f81f3a60b862e48f29287/Markdown-3.0.1-py2.py3-none-any.whl (89kB)\n",
            "\u001b[K     |████████████████████████████████| 92kB 10.2MB/s \n",
            "\u001b[?25hCollecting MarkupSafe==1.1.0\n",
            "  Downloading https://files.pythonhosted.org/packages/08/04/f2191b50fb7f0712f03f064b71d8b4605190f2178ba02e975a87f7b89a0d/MarkupSafe-1.1.0-cp36-cp36m-manylinux1_x86_64.whl\n",
            "Collecting matplotlib==3.0.2\n",
            "\u001b[?25l  Downloading https://files.pythonhosted.org/packages/71/07/16d781df15be30df4acfd536c479268f1208b2dfbc91e9ca5d92c9caf673/matplotlib-3.0.2-cp36-cp36m-manylinux1_x86_64.whl (12.9MB)\n",
            "\u001b[K     |████████████████████████████████| 12.9MB 25.6MB/s \n",
            "\u001b[?25hRequirement already satisfied: mistune==0.8.4 in /usr/local/lib/python3.6/dist-packages (from -r requirements.txt (line 33)) (0.8.4)\n",
            "Requirement already satisfied: music21==5.5.0 in /usr/local/lib/python3.6/dist-packages (from -r requirements.txt (line 34)) (5.5.0)\n",
            "Collecting nbconvert==5.4.1\n",
            "\u001b[?25l  Downloading https://files.pythonhosted.org/packages/b8/39/1e67fea74dc9577cc49f9863fe3ec824e525d1304ab6027d95a94cd586f5/nbconvert-5.4.1-py2.py3-none-any.whl (407kB)\n",
            "\u001b[K     |████████████████████████████████| 409kB 31.6MB/s \n",
            "\u001b[?25hCollecting nbformat==4.4.0\n",
            "\u001b[?25l  Downloading https://files.pythonhosted.org/packages/da/27/9a654d2b6cc1eaa517d1c5a4405166c7f6d72f04f6e7eea41855fe808a46/nbformat-4.4.0-py2.py3-none-any.whl (155kB)\n",
            "\u001b[K     |████████████████████████████████| 163kB 42.2MB/s \n",
            "\u001b[?25hCollecting networkx==2.2\n",
            "\u001b[?25l  Downloading https://files.pythonhosted.org/packages/f3/f4/7e20ef40b118478191cec0b58c3192f822cace858c19505c7670961b76b2/networkx-2.2.zip (1.7MB)\n",
            "\u001b[K     |████████████████████████████████| 1.7MB 45.7MB/s \n",
            "\u001b[?25hCollecting notebook==5.7.4\n",
            "\u001b[?25l  Downloading https://files.pythonhosted.org/packages/f8/a6/dbdf0954d073ab2cf5421cad20334d1e4c780da37205c04522c045298f67/notebook-5.7.4-py2.py3-none-any.whl (9.0MB)\n",
            "\u001b[K     |████████████████████████████████| 9.0MB 32.6MB/s \n",
            "\u001b[?25hCollecting numpy==1.16.1\n",
            "\u001b[?25l  Downloading https://files.pythonhosted.org/packages/f5/bf/4981bcbee43934f0adb8f764a1e70ab0ee5a448f6505bd04a87a2fda2a8b/numpy-1.16.1-cp36-cp36m-manylinux1_x86_64.whl (17.3MB)\n",
            "\u001b[K     |████████████████████████████████| 17.3MB 237kB/s \n",
            "\u001b[?25hCollecting pandas==0.24.2\n",
            "\u001b[?25l  Downloading https://files.pythonhosted.org/packages/19/74/e50234bc82c553fecdbd566d8650801e3fe2d6d8c8d940638e3d8a7c5522/pandas-0.24.2-cp36-cp36m-manylinux1_x86_64.whl (10.1MB)\n",
            "\u001b[K     |████████████████████████████████| 10.1MB 42.8MB/s \n",
            "\u001b[?25hRequirement already satisfied: pandocfilters==1.4.2 in /usr/local/lib/python3.6/dist-packages (from -r requirements.txt (line 41)) (1.4.2)\n",
            "Collecting parso==0.3.4\n",
            "\u001b[?25l  Downloading https://files.pythonhosted.org/packages/19/b1/522b2671cc6d134c9d3f5dfc0d02fee07cab848e908d03d2bffea78cca8f/parso-0.3.4-py2.py3-none-any.whl (93kB)\n",
            "\u001b[K     |████████████████████████████████| 102kB 11.4MB/s \n",
            "\u001b[?25hCollecting pexpect==4.6.0\n",
            "\u001b[?25l  Downloading https://files.pythonhosted.org/packages/89/e6/b5a1de8b0cc4e07ca1b305a4fcc3f9806025c1b651ea302646341222f88b/pexpect-4.6.0-py2.py3-none-any.whl (57kB)\n",
            "\u001b[K     |████████████████████████████████| 61kB 6.8MB/s \n",
            "\u001b[?25hRequirement already satisfied: pickleshare==0.7.5 in /usr/local/lib/python3.6/dist-packages (from -r requirements.txt (line 44)) (0.7.5)\n",
            "Collecting Pillow==5.4.1\n",
            "\u001b[?25l  Downloading https://files.pythonhosted.org/packages/85/5e/e91792f198bbc5a0d7d3055ad552bc4062942d27eaf75c3e2783cf64eae5/Pillow-5.4.1-cp36-cp36m-manylinux1_x86_64.whl (2.0MB)\n",
            "\u001b[K     |████████████████████████████████| 2.0MB 51.4MB/s \n",
            "\u001b[?25hCollecting prometheus-client==0.6.0\n",
            "  Downloading https://files.pythonhosted.org/packages/4c/bd/b42db3ec90ffc6be805aad09c1cea4bb13a620d0cd4b21aaa44d13541d71/prometheus_client-0.6.0.tar.gz\n",
            "Collecting prompt-toolkit==2.0.9\n",
            "\u001b[?25l  Downloading https://files.pythonhosted.org/packages/f7/a7/9b1dd14ef45345f186ef69d175bdd2491c40ab1dfa4b2b3e4352df719ed7/prompt_toolkit-2.0.9-py3-none-any.whl (337kB)\n",
            "\u001b[K     |████████████████████████████████| 337kB 53.3MB/s \n",
            "\u001b[?25hCollecting protobuf==3.6.1\n",
            "\u001b[?25l  Downloading https://files.pythonhosted.org/packages/c2/f9/28787754923612ca9bfdffc588daa05580ed70698add063a5629d1a4209d/protobuf-3.6.1-cp36-cp36m-manylinux1_x86_64.whl (1.1MB)\n",
            "\u001b[K     |████████████████████████████████| 1.1MB 55.0MB/s \n",
            "\u001b[?25hRequirement already satisfied: ptyprocess==0.6.0 in /usr/local/lib/python3.6/dist-packages (from -r requirements.txt (line 49)) (0.6.0)\n",
            "Collecting pydot==1.4.1\n",
            "  Downloading https://files.pythonhosted.org/packages/33/d1/b1479a770f66d962f545c2101630ce1d5592d90cb4f083d38862e93d16d2/pydot-1.4.1-py2.py3-none-any.whl\n",
            "Collecting Pygments==2.3.1\n",
            "\u001b[?25l  Downloading https://files.pythonhosted.org/packages/13/e5/6d710c9cf96c31ac82657bcfb441df328b22df8564d58d0c4cd62612674c/Pygments-2.3.1-py2.py3-none-any.whl (849kB)\n",
            "\u001b[K     |████████████████████████████████| 849kB 47.3MB/s \n",
            "\u001b[?25hCollecting pyparsing==2.3.1\n",
            "\u001b[?25l  Downloading https://files.pythonhosted.org/packages/de/0a/001be530836743d8be6c2d85069f46fecf84ac6c18c7f5fb8125ee11d854/pyparsing-2.3.1-py2.py3-none-any.whl (61kB)\n",
            "\u001b[K     |████████████████████████████████| 71kB 7.8MB/s \n",
            "\u001b[?25hCollecting python-dateutil==2.8.0\n",
            "\u001b[?25l  Downloading https://files.pythonhosted.org/packages/41/17/c62faccbfbd163c7f57f3844689e3a78bae1f403648a6afb1d0866d87fbb/python_dateutil-2.8.0-py2.py3-none-any.whl (226kB)\n",
            "\u001b[K     |████████████████████████████████| 235kB 54.5MB/s \n",
            "\u001b[?25hRequirement already satisfied: pytz==2018.9 in /usr/local/lib/python3.6/dist-packages (from -r requirements.txt (line 54)) (2018.9)\n",
            "Collecting PyWavelets==1.0.1\n",
            "\u001b[?25l  Downloading https://files.pythonhosted.org/packages/fe/68/74a8527b3a727aa69736baaf5a273d83947fa6c91ef4f2e1efddda00d8b6/PyWavelets-1.0.1-cp36-cp36m-manylinux1_x86_64.whl (4.4MB)\n",
            "\u001b[K     |████████████████████████████████| 4.4MB 48.0MB/s \n",
            "\u001b[?25hRequirement already satisfied: PyYAML==3.13 in /usr/local/lib/python3.6/dist-packages (from -r requirements.txt (line 56)) (3.13)\n",
            "Collecting pyzmq==18.0.0\n",
            "\u001b[?25l  Downloading https://files.pythonhosted.org/packages/27/5a/8ce70c20efaf78fac2524b2f8d98b7360c997bc11a748dd233f3add7507e/pyzmq-18.0.0-cp36-cp36m-manylinux1_x86_64.whl (1.1MB)\n",
            "\u001b[K     |████████████████████████████████| 1.1MB 37.3MB/s \n",
            "\u001b[?25hCollecting qtconsole==4.4.3\n",
            "\u001b[?25l  Downloading https://files.pythonhosted.org/packages/e0/7a/8aefbc0ed078dec7951ac9a06dcd1869243ecd7bcbce26fa47bf5e469a8f/qtconsole-4.4.3-py2.py3-none-any.whl (113kB)\n",
            "\u001b[K     |████████████████████████████████| 122kB 42.8MB/s \n",
            "\u001b[?25hCollecting scikit-image==0.14.2\n",
            "\u001b[?25l  Downloading https://files.pythonhosted.org/packages/24/06/d560630eb9e36d90d69fe57d9ff762d8f501664ce478b8a0ae132b3c3008/scikit_image-0.14.2-cp36-cp36m-manylinux1_x86_64.whl (25.3MB)\n",
            "\u001b[K     |████████████████████████████████| 25.3MB 88.2MB/s \n",
            "\u001b[?25hCollecting scipy==1.2.1\n",
            "\u001b[?25l  Downloading https://files.pythonhosted.org/packages/7f/5f/c48860704092933bf1c4c1574a8de1ffd16bf4fde8bab190d747598844b2/scipy-1.2.1-cp36-cp36m-manylinux1_x86_64.whl (24.8MB)\n",
            "\u001b[K     |████████████████████████████████| 24.8MB 1.2MB/s \n",
            "\u001b[?25hRequirement already satisfied: Send2Trash==1.5.0 in /usr/local/lib/python3.6/dist-packages (from -r requirements.txt (line 61)) (1.5.0)\n",
            "Requirement already satisfied: six==1.12.0 in /usr/local/lib/python3.6/dist-packages (from -r requirements.txt (line 62)) (1.12.0)\n",
            "Collecting tensorboard==1.13.1\n",
            "\u001b[?25l  Downloading https://files.pythonhosted.org/packages/0f/39/bdd75b08a6fba41f098b6cb091b9e8c7a80e1b4d679a581a0ccd17b10373/tensorboard-1.13.1-py3-none-any.whl (3.2MB)\n",
            "\u001b[K     |████████████████████████████████| 3.2MB 34.2MB/s \n",
            "\u001b[?25hCollecting tensorflow==1.13.2\n",
            "\u001b[?25l  Downloading https://files.pythonhosted.org/packages/db/d3/651f95288a6cd9094f7411cdd90ef12a3d01a268009e0e3cd66b5c8d65bd/tensorflow-1.13.2-cp36-cp36m-manylinux1_x86_64.whl (92.6MB)\n",
            "\u001b[K     |████████████████████████████████| 92.6MB 45kB/s \n",
            "\u001b[?25hRequirement already satisfied: termcolor==1.1.0 in /usr/local/lib/python3.6/dist-packages (from -r requirements.txt (line 65)) (1.1.0)\n",
            "Collecting terminado==0.8.1\n",
            "  Downloading https://files.pythonhosted.org/packages/2e/20/a26211a24425923d46e1213b376a6ee60dc30bcdf1b0c345e2c3769deb1c/terminado-0.8.1-py2.py3-none-any.whl\n",
            "Collecting testpath==0.4.2\n",
            "\u001b[?25l  Downloading https://files.pythonhosted.org/packages/be/a4/162f9ebb6489421fe46dcca2ae420369edfee4b563c668d93cb4605d12ba/testpath-0.4.2-py2.py3-none-any.whl (163kB)\n",
            "\u001b[K     |████████████████████████████████| 163kB 36.2MB/s \n",
            "\u001b[?25hCollecting toolz==0.9.0\n",
            "\u001b[?25l  Downloading https://files.pythonhosted.org/packages/14/d0/a73c15bbeda3d2e7b381a36afb0d9cd770a9f4adc5d1532691013ba881db/toolz-0.9.0.tar.gz (45kB)\n",
            "\u001b[K     |████████████████████████████████| 51kB 6.1MB/s \n",
            "\u001b[?25hCollecting tornado==5.1.1\n",
            "\u001b[?25l  Downloading https://files.pythonhosted.org/packages/e6/78/6e7b5af12c12bdf38ca9bfe863fcaf53dc10430a312d0324e76c1e5ca426/tornado-5.1.1.tar.gz (516kB)\n",
            "\u001b[K     |████████████████████████████████| 522kB 43.9MB/s \n",
            "\u001b[?25hCollecting traitlets==4.3.2\n",
            "\u001b[?25l  Downloading https://files.pythonhosted.org/packages/93/d6/abcb22de61d78e2fc3959c964628a5771e47e7cc60d53e9342e21ed6cc9a/traitlets-4.3.2-py2.py3-none-any.whl (74kB)\n",
            "\u001b[K     |████████████████████████████████| 81kB 9.0MB/s \n",
            "\u001b[?25hCollecting wcwidth==0.1.7\n",
            "  Downloading https://files.pythonhosted.org/packages/7e/9f/526a6947247599b084ee5232e4f9190a38f398d7300d866af3ab571a5bfe/wcwidth-0.1.7-py2.py3-none-any.whl\n",
            "Requirement already satisfied: webencodings==0.5.1 in /usr/local/lib/python3.6/dist-packages (from -r requirements.txt (line 72)) (0.5.1)\n",
            "Collecting Werkzeug==0.14.1\n",
            "\u001b[?25l  Downloading https://files.pythonhosted.org/packages/20/c4/12e3e56473e52375aa29c4764e70d1b8f3efa6682bef8d0aae04fe335243/Werkzeug-0.14.1-py2.py3-none-any.whl (322kB)\n",
            "\u001b[K     |████████████████████████████████| 327kB 51.0MB/s \n",
            "\u001b[?25hCollecting widgetsnbextension==3.4.2\n",
            "\u001b[?25l  Downloading https://files.pythonhosted.org/packages/8a/81/35789a3952afb48238289171728072d26d6e76649ddc8b3588657a2d78c1/widgetsnbextension-3.4.2-py2.py3-none-any.whl (2.2MB)\n",
            "\u001b[K     |████████████████████████████████| 2.2MB 34.6MB/s \n",
            "\u001b[?25hRequirement already satisfied: setuptools>=18.5 in /usr/local/lib/python3.6/dist-packages (from ipython==7.3.0->-r requirements.txt (line 16)) (45.1.0)\n",
            "Requirement already satisfied: wheel>=0.26; python_version >= \"3\" in /usr/local/lib/python3.6/dist-packages (from tensorboard==1.13.1->-r requirements.txt (line 63)) (0.34.2)\n",
            "Collecting tensorflow-estimator<1.14.0rc0,>=1.13.0\n",
            "\u001b[?25l  Downloading https://files.pythonhosted.org/packages/bb/48/13f49fc3fa0fdf916aa1419013bb8f2ad09674c275b4046d5ee669a46873/tensorflow_estimator-1.13.0-py2.py3-none-any.whl (367kB)\n",
            "\u001b[K     |████████████████████████████████| 368kB 60.7MB/s \n",
            "\u001b[?25hCollecting mock>=2.0.0\n",
            "  Downloading https://files.pythonhosted.org/packages/30/6a/9bde648117ec7087c89a45de0a8b25aba21d54d3defd08cb24eacded875f/mock-4.0.1-py3-none-any.whl\n",
            "Building wheels for collected packages: absl-py, networkx, prometheus-client, toolz, tornado\n",
            "  Building wheel for absl-py (setup.py) ... \u001b[?25l\u001b[?25hdone\n",
            "  Created wheel for absl-py: filename=absl_py-0.7.0-cp36-none-any.whl size=113530 sha256=8b41e6334f6ce586e86e0ec76445eee3fdb883428a2df25ddf58cdd019f5dba5\n",
            "  Stored in directory: /root/.cache/pip/wheels/90/db/f8/2c3101f72ef1ad434e4662853174126ce30201a3e163dcbeca\n",
            "  Building wheel for networkx (setup.py) ... \u001b[?25l\u001b[?25hdone\n",
            "  Created wheel for networkx: filename=networkx-2.2-py2.py3-none-any.whl size=1527322 sha256=4eae80298898fcd9e47a64f34eb2c0d1a17fec04e341c2a8fd59e801b419e9a3\n",
            "  Stored in directory: /root/.cache/pip/wheels/68/f8/29/b53346a112a07d30a5a84d53f19aeadaa1a474897c0423af91\n",
            "  Building wheel for prometheus-client (setup.py) ... \u001b[?25l\u001b[?25hdone\n",
            "  Created wheel for prometheus-client: filename=prometheus_client-0.6.0-cp36-none-any.whl size=39584 sha256=8ae5106703e3359d585fc28106e18e1f547c6be816bd9db9649d9fc87f58c2ba\n",
            "  Stored in directory: /root/.cache/pip/wheels/4b/04/b8/3709c73e7453f311ebd46ad581b89642543213f995e2659b9e\n",
            "  Building wheel for toolz (setup.py) ... \u001b[?25l\u001b[?25hdone\n",
            "  Created wheel for toolz: filename=toolz-0.9.0-cp36-none-any.whl size=53240 sha256=7714d4b0c6502d7ad7755ca9290ef4df2fe2d990646a8e6b1a5cae43d14ac898\n",
            "  Stored in directory: /root/.cache/pip/wheels/f4/0c/f6/ce6b2d1aa459ee97cc3c0f82236302bd62d89c86c700219463\n",
            "  Building wheel for tornado (setup.py) ... \u001b[?25l\u001b[?25hdone\n",
            "  Created wheel for tornado: filename=tornado-5.1.1-cp36-cp36m-linux_x86_64.whl size=462328 sha256=7a55ffce3e8afd58e0153d2e57f3c0fabe5e948f669220c90bc55afe40b36d66\n",
            "  Stored in directory: /root/.cache/pip/wheels/6d/e1/ce/f4ee2fa420cc6b940123c64992b81047816d0a9fad6b879325\n",
            "Successfully built absl-py networkx prometheus-client toolz tornado\n",
            "\u001b[31mERROR: tensorflow-metadata 0.21.1 has requirement protobuf<4,>=3.7, but you'll have protobuf 3.6.1 which is incompatible.\u001b[0m\n",
            "\u001b[31mERROR: plotnine 0.6.0 has requirement matplotlib>=3.1.1, but you'll have matplotlib 3.0.2 which is incompatible.\u001b[0m\n",
            "\u001b[31mERROR: plotnine 0.6.0 has requirement pandas>=0.25.0, but you'll have pandas 0.24.2 which is incompatible.\u001b[0m\n",
            "\u001b[31mERROR: mizani 0.6.0 has requirement matplotlib>=3.1.1, but you'll have matplotlib 3.0.2 which is incompatible.\u001b[0m\n",
            "\u001b[31mERROR: mizani 0.6.0 has requirement pandas>=0.25.0, but you'll have pandas 0.24.2 which is incompatible.\u001b[0m\n",
            "\u001b[31mERROR: gym 0.15.6 has requirement cloudpickle~=1.2.0, but you'll have cloudpickle 0.8.0 which is incompatible.\u001b[0m\n",
            "\u001b[31mERROR: google-colab 1.0.0 has requirement ipykernel~=4.6.0, but you'll have ipykernel 5.1.0 which is incompatible.\u001b[0m\n",
            "\u001b[31mERROR: google-colab 1.0.0 has requirement ipython~=5.5.0, but you'll have ipython 7.3.0 which is incompatible.\u001b[0m\n",
            "\u001b[31mERROR: google-colab 1.0.0 has requirement notebook~=5.2.0, but you'll have notebook 5.7.4 which is incompatible.\u001b[0m\n",
            "\u001b[31mERROR: google-colab 1.0.0 has requirement pandas~=0.25.0; python_version >= \"3.0\", but you'll have pandas 0.24.2 which is incompatible.\u001b[0m\n",
            "\u001b[31mERROR: google-colab 1.0.0 has requirement tornado~=4.5.0, but you'll have tornado 5.1.1 which is incompatible.\u001b[0m\n",
            "\u001b[31mERROR: flask 1.1.1 has requirement Jinja2>=2.10.1, but you'll have jinja2 2.10 which is incompatible.\u001b[0m\n",
            "\u001b[31mERROR: flask 1.1.1 has requirement Werkzeug>=0.15, but you'll have werkzeug 0.14.1 which is incompatible.\u001b[0m\n",
            "\u001b[31mERROR: datascience 0.10.6 has requirement folium==0.2.1, but you'll have folium 0.8.3 which is incompatible.\u001b[0m\n",
            "\u001b[31mERROR: albumentations 0.1.12 has requirement imgaug<0.2.7,>=0.2.5, but you'll have imgaug 0.2.9 which is incompatible.\u001b[0m\n",
            "Installing collected packages: absl-py, appnope, astor, cloudpickle, dask, decorator, defusedxml, grpcio, numpy, h5py, traitlets, pexpect, parso, jedi, wcwidth, prompt-toolkit, Pygments, ipython, tornado, pyzmq, jupyter-core, python-dateutil, jupyter-client, ipykernel, MarkupSafe, Jinja2, prometheus-client, terminado, nbformat, testpath, nbconvert, notebook, widgetsnbextension, ipywidgets, jupyter-console, Keras-Applications, Keras-Preprocessing, scipy, Keras, kiwisolver, Markdown, pyparsing, matplotlib, networkx, pandas, Pillow, protobuf, pydot, PyWavelets, qtconsole, scikit-image, Werkzeug, tensorboard, mock, tensorflow-estimator, tensorflow, toolz\n",
            "  Found existing installation: absl-py 0.9.0\n",
            "    Uninstalling absl-py-0.9.0:\n",
            "      Successfully uninstalled absl-py-0.9.0\n",
            "  Found existing installation: astor 0.8.1\n",
            "    Uninstalling astor-0.8.1:\n",
            "      Successfully uninstalled astor-0.8.1\n",
            "  Found existing installation: cloudpickle 1.2.2\n",
            "    Uninstalling cloudpickle-1.2.2:\n",
            "      Successfully uninstalled cloudpickle-1.2.2\n",
            "  Found existing installation: dask 2.9.2\n",
            "    Uninstalling dask-2.9.2:\n",
            "      Successfully uninstalled dask-2.9.2\n",
            "  Found existing installation: decorator 4.4.1\n",
            "    Uninstalling decorator-4.4.1:\n",
            "      Successfully uninstalled decorator-4.4.1\n",
            "  Found existing installation: defusedxml 0.6.0\n",
            "    Uninstalling defusedxml-0.6.0:\n",
            "      Successfully uninstalled defusedxml-0.6.0\n",
            "  Found existing installation: grpcio 1.15.0\n",
            "    Uninstalling grpcio-1.15.0:\n",
            "      Successfully uninstalled grpcio-1.15.0\n",
            "  Found existing installation: numpy 1.17.5\n",
            "    Uninstalling numpy-1.17.5:\n",
            "      Successfully uninstalled numpy-1.17.5\n",
            "  Found existing installation: h5py 2.8.0\n",
            "    Uninstalling h5py-2.8.0:\n",
            "      Successfully uninstalled h5py-2.8.0\n",
            "  Found existing installation: traitlets 4.3.3\n",
            "    Uninstalling traitlets-4.3.3:\n",
            "      Successfully uninstalled traitlets-4.3.3\n",
            "  Found existing installation: pexpect 4.8.0\n",
            "    Uninstalling pexpect-4.8.0:\n",
            "      Successfully uninstalled pexpect-4.8.0\n",
            "  Found existing installation: parso 0.6.1\n",
            "    Uninstalling parso-0.6.1:\n",
            "      Successfully uninstalled parso-0.6.1\n",
            "  Found existing installation: jedi 0.16.0\n",
            "    Uninstalling jedi-0.16.0:\n",
            "      Successfully uninstalled jedi-0.16.0\n",
            "  Found existing installation: wcwidth 0.1.8\n",
            "    Uninstalling wcwidth-0.1.8:\n",
            "      Successfully uninstalled wcwidth-0.1.8\n",
            "  Found existing installation: prompt-toolkit 1.0.18\n",
            "    Uninstalling prompt-toolkit-1.0.18:\n",
            "      Successfully uninstalled prompt-toolkit-1.0.18\n",
            "  Found existing installation: Pygments 2.1.3\n",
            "    Uninstalling Pygments-2.1.3:\n",
            "      Successfully uninstalled Pygments-2.1.3\n",
            "  Found existing installation: ipython 5.5.0\n",
            "    Uninstalling ipython-5.5.0:\n",
            "      Successfully uninstalled ipython-5.5.0\n",
            "  Found existing installation: tornado 4.5.3\n",
            "    Uninstalling tornado-4.5.3:\n",
            "      Successfully uninstalled tornado-4.5.3\n",
            "  Found existing installation: pyzmq 17.0.0\n",
            "    Uninstalling pyzmq-17.0.0:\n",
            "      Successfully uninstalled pyzmq-17.0.0\n",
            "  Found existing installation: jupyter-core 4.6.1\n",
            "    Uninstalling jupyter-core-4.6.1:\n",
            "      Successfully uninstalled jupyter-core-4.6.1\n",
            "  Found existing installation: python-dateutil 2.6.1\n",
            "    Uninstalling python-dateutil-2.6.1:\n",
            "      Successfully uninstalled python-dateutil-2.6.1\n",
            "  Found existing installation: jupyter-client 5.3.4\n",
            "    Uninstalling jupyter-client-5.3.4:\n",
            "      Successfully uninstalled jupyter-client-5.3.4\n",
            "  Found existing installation: ipykernel 4.6.1\n",
            "    Uninstalling ipykernel-4.6.1:\n",
            "      Successfully uninstalled ipykernel-4.6.1\n",
            "  Found existing installation: MarkupSafe 1.1.1\n",
            "    Uninstalling MarkupSafe-1.1.1:\n",
            "      Successfully uninstalled MarkupSafe-1.1.1\n",
            "  Found existing installation: Jinja2 2.11.1\n",
            "    Uninstalling Jinja2-2.11.1:\n",
            "      Successfully uninstalled Jinja2-2.11.1\n",
            "  Found existing installation: prometheus-client 0.7.1\n",
            "    Uninstalling prometheus-client-0.7.1:\n",
            "      Successfully uninstalled prometheus-client-0.7.1\n",
            "  Found existing installation: terminado 0.8.3\n",
            "    Uninstalling terminado-0.8.3:\n",
            "      Successfully uninstalled terminado-0.8.3\n",
            "  Found existing installation: nbformat 5.0.4\n",
            "    Uninstalling nbformat-5.0.4:\n",
            "      Successfully uninstalled nbformat-5.0.4\n",
            "  Found existing installation: testpath 0.4.4\n",
            "    Uninstalling testpath-0.4.4:\n",
            "      Successfully uninstalled testpath-0.4.4\n",
            "  Found existing installation: nbconvert 5.6.1\n",
            "    Uninstalling nbconvert-5.6.1:\n",
            "      Successfully uninstalled nbconvert-5.6.1\n",
            "  Found existing installation: notebook 5.2.2\n",
            "    Uninstalling notebook-5.2.2:\n",
            "      Successfully uninstalled notebook-5.2.2\n",
            "  Found existing installation: widgetsnbextension 3.5.1\n",
            "    Uninstalling widgetsnbextension-3.5.1:\n",
            "      Successfully uninstalled widgetsnbextension-3.5.1\n",
            "  Found existing installation: ipywidgets 7.5.1\n",
            "    Uninstalling ipywidgets-7.5.1:\n",
            "      Successfully uninstalled ipywidgets-7.5.1\n",
            "  Found existing installation: jupyter-console 5.2.0\n",
            "    Uninstalling jupyter-console-5.2.0:\n",
            "      Successfully uninstalled jupyter-console-5.2.0\n",
            "  Found existing installation: Keras-Applications 1.0.8\n",
            "    Uninstalling Keras-Applications-1.0.8:\n",
            "      Successfully uninstalled Keras-Applications-1.0.8\n",
            "  Found existing installation: Keras-Preprocessing 1.1.0\n",
            "    Uninstalling Keras-Preprocessing-1.1.0:\n",
            "      Successfully uninstalled Keras-Preprocessing-1.1.0\n",
            "  Found existing installation: scipy 1.4.1\n",
            "    Uninstalling scipy-1.4.1:\n",
            "      Successfully uninstalled scipy-1.4.1\n",
            "  Found existing installation: Keras 2.2.5\n",
            "    Uninstalling Keras-2.2.5:\n",
            "      Successfully uninstalled Keras-2.2.5\n",
            "  Found existing installation: kiwisolver 1.1.0\n",
            "    Uninstalling kiwisolver-1.1.0:\n",
            "      Successfully uninstalled kiwisolver-1.1.0\n",
            "  Found existing installation: Markdown 3.1.1\n",
            "    Uninstalling Markdown-3.1.1:\n",
            "      Successfully uninstalled Markdown-3.1.1\n",
            "  Found existing installation: pyparsing 2.4.6\n",
            "    Uninstalling pyparsing-2.4.6:\n",
            "      Successfully uninstalled pyparsing-2.4.6\n",
            "  Found existing installation: matplotlib 3.1.3\n",
            "    Uninstalling matplotlib-3.1.3:\n",
            "      Successfully uninstalled matplotlib-3.1.3\n",
            "  Found existing installation: networkx 2.4\n",
            "    Uninstalling networkx-2.4:\n",
            "      Successfully uninstalled networkx-2.4\n",
            "  Found existing installation: pandas 0.25.3\n",
            "    Uninstalling pandas-0.25.3:\n",
            "      Successfully uninstalled pandas-0.25.3\n",
            "  Found existing installation: Pillow 6.2.2\n",
            "    Uninstalling Pillow-6.2.2:\n",
            "      Successfully uninstalled Pillow-6.2.2\n",
            "  Found existing installation: protobuf 3.10.0\n",
            "    Uninstalling protobuf-3.10.0:\n",
            "      Successfully uninstalled protobuf-3.10.0\n",
            "  Found existing installation: pydot 1.3.0\n",
            "    Uninstalling pydot-1.3.0:\n",
            "      Successfully uninstalled pydot-1.3.0\n",
            "  Found existing installation: PyWavelets 1.1.1\n",
            "    Uninstalling PyWavelets-1.1.1:\n",
            "      Successfully uninstalled PyWavelets-1.1.1\n",
            "  Found existing installation: qtconsole 4.6.0\n",
            "    Uninstalling qtconsole-4.6.0:\n",
            "      Successfully uninstalled qtconsole-4.6.0\n",
            "  Found existing installation: scikit-image 0.16.2\n",
            "    Uninstalling scikit-image-0.16.2:\n",
            "      Successfully uninstalled scikit-image-0.16.2\n",
            "  Found existing installation: Werkzeug 0.16.1\n",
            "    Uninstalling Werkzeug-0.16.1:\n",
            "      Successfully uninstalled Werkzeug-0.16.1\n",
            "  Found existing installation: tensorboard 1.15.0\n",
            "    Uninstalling tensorboard-1.15.0:\n",
            "      Successfully uninstalled tensorboard-1.15.0\n",
            "  Found existing installation: tensorflow-estimator 1.15.1\n",
            "    Uninstalling tensorflow-estimator-1.15.1:\n",
            "      Successfully uninstalled tensorflow-estimator-1.15.1\n",
            "  Found existing installation: tensorflow 1.15.0\n",
            "    Uninstalling tensorflow-1.15.0:\n",
            "      Successfully uninstalled tensorflow-1.15.0\n",
            "  Found existing installation: toolz 0.10.0\n",
            "    Uninstalling toolz-0.10.0:\n",
            "      Successfully uninstalled toolz-0.10.0\n",
            "Successfully installed Jinja2-2.10 Keras-2.2.4 Keras-Applications-1.0.7 Keras-Preprocessing-1.0.9 Markdown-3.0.1 MarkupSafe-1.1.0 Pillow-5.4.1 PyWavelets-1.0.1 Pygments-2.3.1 Werkzeug-0.14.1 absl-py-0.7.0 appnope-0.1.0 astor-0.7.1 cloudpickle-0.8.0 dask-1.1.1 decorator-4.3.2 defusedxml-0.5.0 grpcio-1.18.0 h5py-2.9.0 ipykernel-5.1.0 ipython-7.3.0 ipywidgets-7.4.2 jedi-0.13.2 jupyter-client-5.2.4 jupyter-console-6.0.0 jupyter-core-4.4.0 kiwisolver-1.0.1 matplotlib-3.0.2 mock-4.0.1 nbconvert-5.4.1 nbformat-4.4.0 networkx-2.2 notebook-5.7.4 numpy-1.16.1 pandas-0.24.2 parso-0.3.4 pexpect-4.6.0 prometheus-client-0.6.0 prompt-toolkit-2.0.9 protobuf-3.6.1 pydot-1.4.1 pyparsing-2.3.1 python-dateutil-2.8.0 pyzmq-18.0.0 qtconsole-4.4.3 scikit-image-0.14.2 scipy-1.2.1 tensorboard-1.13.1 tensorflow-1.13.2 tensorflow-estimator-1.13.0 terminado-0.8.1 testpath-0.4.2 toolz-0.9.0 tornado-5.1.1 traitlets-4.3.2 wcwidth-0.1.7 widgetsnbextension-3.4.2\n"
          ],
          "name": "stdout"
        },
        {
          "output_type": "display_data",
          "data": {
            "application/vnd.colab-display-data+json": {
              "pip_warning": {
                "packages": [
                  "IPython",
                  "PIL",
                  "cloudpickle",
                  "dateutil",
                  "decorator",
                  "google",
                  "grpc",
                  "ipykernel",
                  "ipywidgets",
                  "jupyter_client",
                  "jupyter_core",
                  "kiwisolver",
                  "matplotlib",
                  "mpl_toolkits",
                  "numpy",
                  "pandas",
                  "pexpect",
                  "prompt_toolkit",
                  "pygments",
                  "pyparsing",
                  "tornado",
                  "traitlets",
                  "wcwidth",
                  "zmq"
                ]
              }
            }
          },
          "metadata": {
            "tags": []
          }
        }
      ]
    },
    {
      "cell_type": "code",
      "metadata": {
        "id": "-YrIK9FuCdlO",
        "colab_type": "code",
        "colab": {
          "base_uri": "https://localhost:8080/",
          "height": 321
        },
        "outputId": "3d44d251-2fda-4c9e-bb52-159bb309bca9"
      },
      "source": [
        "import numpy as np\n",
        "import matplotlib.pyplot as plt \n",
        "\n",
        "from keras.layers import Input, Flatten, Dense, Conv2D\n",
        "from keras.models import Model\n",
        "from keras.optimizers import Adam\n",
        "from keras.utils import to_categorical\n",
        "\n",
        "from keras.datasets import cifar10"
      ],
      "execution_count": 4,
      "outputs": [
        {
          "output_type": "stream",
          "text": [
            "Using TensorFlow backend.\n",
            "/usr/local/lib/python3.6/dist-packages/tensorflow/python/framework/dtypes.py:526: FutureWarning: Passing (type, 1) or '1type' as a synonym of type is deprecated; in a future version of numpy, it will be understood as (type, (1,)) / '(1,)type'.\n",
            "  _np_qint8 = np.dtype([(\"qint8\", np.int8, 1)])\n",
            "/usr/local/lib/python3.6/dist-packages/tensorflow/python/framework/dtypes.py:527: FutureWarning: Passing (type, 1) or '1type' as a synonym of type is deprecated; in a future version of numpy, it will be understood as (type, (1,)) / '(1,)type'.\n",
            "  _np_quint8 = np.dtype([(\"quint8\", np.uint8, 1)])\n",
            "/usr/local/lib/python3.6/dist-packages/tensorflow/python/framework/dtypes.py:528: FutureWarning: Passing (type, 1) or '1type' as a synonym of type is deprecated; in a future version of numpy, it will be understood as (type, (1,)) / '(1,)type'.\n",
            "  _np_qint16 = np.dtype([(\"qint16\", np.int16, 1)])\n",
            "/usr/local/lib/python3.6/dist-packages/tensorflow/python/framework/dtypes.py:529: FutureWarning: Passing (type, 1) or '1type' as a synonym of type is deprecated; in a future version of numpy, it will be understood as (type, (1,)) / '(1,)type'.\n",
            "  _np_quint16 = np.dtype([(\"quint16\", np.uint16, 1)])\n",
            "/usr/local/lib/python3.6/dist-packages/tensorflow/python/framework/dtypes.py:530: FutureWarning: Passing (type, 1) or '1type' as a synonym of type is deprecated; in a future version of numpy, it will be understood as (type, (1,)) / '(1,)type'.\n",
            "  _np_qint32 = np.dtype([(\"qint32\", np.int32, 1)])\n",
            "/usr/local/lib/python3.6/dist-packages/tensorflow/python/framework/dtypes.py:535: FutureWarning: Passing (type, 1) or '1type' as a synonym of type is deprecated; in a future version of numpy, it will be understood as (type, (1,)) / '(1,)type'.\n",
            "  np_resource = np.dtype([(\"resource\", np.ubyte, 1)])\n"
          ],
          "name": "stderr"
        },
        {
          "output_type": "display_data",
          "data": {
            "text/html": [
              "<p style=\"color: red;\">\n",
              "The default version of TensorFlow in Colab will soon switch to TensorFlow 2.x.<br>\n",
              "We recommend you <a href=\"https://www.tensorflow.org/guide/migrate\" target=\"_blank\">upgrade</a> now \n",
              "or ensure your notebook will continue to use TensorFlow 1.x via the <code>%tensorflow_version 1.x</code> magic:\n",
              "<a href=\"https://colab.research.google.com/notebooks/tensorflow_version.ipynb\" target=\"_blank\">more info</a>.</p>\n"
            ],
            "text/plain": [
              "<IPython.core.display.HTML object>"
            ]
          },
          "metadata": {
            "tags": []
          }
        }
      ]
    },
    {
      "cell_type": "markdown",
      "metadata": {
        "id": "Nf3O5liyET0x",
        "colab_type": "text"
      },
      "source": [
        "### load data"
      ]
    },
    {
      "cell_type": "code",
      "metadata": {
        "id": "Vj9roIhFEOEk",
        "colab_type": "code",
        "colab": {}
      },
      "source": [
        "NUM_CLASSES = 10"
      ],
      "execution_count": 0,
      "outputs": []
    },
    {
      "cell_type": "code",
      "metadata": {
        "id": "nrJgTgsDEW4h",
        "colab_type": "code",
        "colab": {
          "base_uri": "https://localhost:8080/",
          "height": 51
        },
        "outputId": "2b25dd65-30f5-4268-e9d3-c7fbd26d496c"
      },
      "source": [
        "(x_train, y_train), (x_test, y_test) = cifar10.load_data()"
      ],
      "execution_count": 6,
      "outputs": [
        {
          "output_type": "stream",
          "text": [
            "Downloading data from https://www.cs.toronto.edu/~kriz/cifar-10-python.tar.gz\n",
            "170500096/170498071 [==============================] - 11s 0us/step\n"
          ],
          "name": "stdout"
        }
      ]
    },
    {
      "cell_type": "code",
      "metadata": {
        "id": "TwgkOBfLEbhL",
        "colab_type": "code",
        "colab": {}
      },
      "source": [
        "x_train = x_train.astype('float32') / 255.0\n",
        "x_test = x_test.astype('float32') / 255.0\n",
        "\n",
        "y_train = to_categorical(y_train, NUM_CLASSES)\n",
        "y_test = to_categorical(y_test, NUM_CLASSES)"
      ],
      "execution_count": 0,
      "outputs": []
    },
    {
      "cell_type": "code",
      "metadata": {
        "id": "9dwZ-hBUEvYE",
        "colab_type": "code",
        "colab": {
          "base_uri": "https://localhost:8080/",
          "height": 34
        },
        "outputId": "6cd1a97f-b985-4ad6-ac76-0aac2f0e3e57"
      },
      "source": [
        "x_train[52,12,13,1]"
      ],
      "execution_count": 8,
      "outputs": [
        {
          "output_type": "execute_result",
          "data": {
            "text/plain": [
              "0.43137255"
            ]
          },
          "metadata": {
            "tags": []
          },
          "execution_count": 8
        }
      ]
    },
    {
      "cell_type": "markdown",
      "metadata": {
        "id": "JZZmUIeJE2Lt",
        "colab_type": "text"
      },
      "source": [
        "# build model"
      ]
    },
    {
      "cell_type": "code",
      "metadata": {
        "id": "9sbwRAbqExq5",
        "colab_type": "code",
        "colab": {
          "base_uri": "https://localhost:8080/",
          "height": 88
        },
        "outputId": "4f89fbeb-276f-4e6d-f96a-5d0dd691800e"
      },
      "source": [
        "input_layer = Input((32,32,3))\n",
        "\n",
        "x = Flatten()(input_layer)\n",
        "\n",
        "x = Dense(200, activation = 'relu')(x)\n",
        "x = Dense(150, activation = 'relu')(x)\n",
        "\n",
        "output_layer = Dense(NUM_CLASSES, activation = 'softmax')(x)\n",
        "\n",
        "model = Model(input_layer, output_layer)"
      ],
      "execution_count": 9,
      "outputs": [
        {
          "output_type": "stream",
          "text": [
            "WARNING:tensorflow:From /usr/local/lib/python3.6/dist-packages/tensorflow/python/framework/op_def_library.py:263: colocate_with (from tensorflow.python.framework.ops) is deprecated and will be removed in a future version.\n",
            "Instructions for updating:\n",
            "Colocations handled automatically by placer.\n"
          ],
          "name": "stdout"
        }
      ]
    },
    {
      "cell_type": "code",
      "metadata": {
        "id": "LPHFoLN3dZlf",
        "colab_type": "code",
        "colab": {
          "base_uri": "https://localhost:8080/",
          "height": 306
        },
        "outputId": "0228e4a5-45e0-4e15-bf69-0c1e8b3f622d"
      },
      "source": [
        "model.summary()"
      ],
      "execution_count": 10,
      "outputs": [
        {
          "output_type": "stream",
          "text": [
            "_________________________________________________________________\n",
            "Layer (type)                 Output Shape              Param #   \n",
            "=================================================================\n",
            "input_1 (InputLayer)         (None, 32, 32, 3)         0         \n",
            "_________________________________________________________________\n",
            "flatten_1 (Flatten)          (None, 3072)              0         \n",
            "_________________________________________________________________\n",
            "dense_1 (Dense)              (None, 200)               614600    \n",
            "_________________________________________________________________\n",
            "dense_2 (Dense)              (None, 150)               30150     \n",
            "_________________________________________________________________\n",
            "dense_3 (Dense)              (None, 10)                1510      \n",
            "=================================================================\n",
            "Total params: 646,260\n",
            "Trainable params: 646,260\n",
            "Non-trainable params: 0\n",
            "_________________________________________________________________\n"
          ],
          "name": "stdout"
        }
      ]
    },
    {
      "cell_type": "markdown",
      "metadata": {
        "id": "ZjWCqaWSDv-s",
        "colab_type": "text"
      },
      "source": [
        "## compile model"
      ]
    },
    {
      "cell_type": "code",
      "metadata": {
        "id": "bIzhixaTDulL",
        "colab_type": "code",
        "colab": {}
      },
      "source": [
        "opt = Adam(lr=0.0005)\n",
        "model.compile(loss='categorical_crossentropy', optimizer=opt, metrics=['accuracy'])"
      ],
      "execution_count": 0,
      "outputs": []
    },
    {
      "cell_type": "markdown",
      "metadata": {
        "id": "Lwcxpo_2D9LG",
        "colab_type": "text"
      },
      "source": [
        "## training model"
      ]
    },
    {
      "cell_type": "code",
      "metadata": {
        "id": "DfQkAblCD63H",
        "colab_type": "code",
        "colab": {
          "base_uri": "https://localhost:8080/",
          "height": 445
        },
        "outputId": "f2f19bf7-777b-4127-fbe5-e36d14b18207"
      },
      "source": [
        "model.fit(x_train, y_train, batch_size=32\n",
        "          , epochs=10\n",
        "          , shuffle=True)"
      ],
      "execution_count": 13,
      "outputs": [
        {
          "output_type": "stream",
          "text": [
            "WARNING:tensorflow:From /usr/local/lib/python3.6/dist-packages/tensorflow/python/ops/math_ops.py:3066: to_int32 (from tensorflow.python.ops.math_ops) is deprecated and will be removed in a future version.\n",
            "Instructions for updating:\n",
            "Use tf.cast instead.\n",
            "Epoch 1/10\n",
            "50000/50000 [==============================] - 22s 434us/step - loss: 1.8563 - acc: 0.3289\n",
            "Epoch 2/10\n",
            "50000/50000 [==============================] - 22s 439us/step - loss: 1.6687 - acc: 0.4041\n",
            "Epoch 3/10\n",
            "50000/50000 [==============================] - 22s 434us/step - loss: 1.5868 - acc: 0.4322\n",
            "Epoch 4/10\n",
            "50000/50000 [==============================] - 22s 436us/step - loss: 1.5355 - acc: 0.4500\n",
            "Epoch 5/10\n",
            "50000/50000 [==============================] - 21s 428us/step - loss: 1.4979 - acc: 0.4648\n",
            "Epoch 6/10\n",
            "50000/50000 [==============================] - 21s 426us/step - loss: 1.4638 - acc: 0.4797\n",
            "Epoch 7/10\n",
            "50000/50000 [==============================] - 22s 440us/step - loss: 1.4371 - acc: 0.4887\n",
            "Epoch 8/10\n",
            "50000/50000 [==============================] - 22s 436us/step - loss: 1.4135 - acc: 0.4977\n",
            "Epoch 9/10\n",
            "50000/50000 [==============================] - 22s 432us/step - loss: 1.3939 - acc: 0.5054\n",
            "Epoch 10/10\n",
            "50000/50000 [==============================] - 21s 430us/step - loss: 1.3695 - acc: 0.5121\n"
          ],
          "name": "stdout"
        },
        {
          "output_type": "execute_result",
          "data": {
            "text/plain": [
              "<keras.callbacks.History at 0x7f5d1387be10>"
            ]
          },
          "metadata": {
            "tags": []
          },
          "execution_count": 13
        }
      ]
    },
    {
      "cell_type": "markdown",
      "metadata": {
        "id": "4jbLlPu4D755",
        "colab_type": "text"
      },
      "source": [
        ""
      ]
    },
    {
      "cell_type": "markdown",
      "metadata": {
        "id": "CzHXKqnhEstg",
        "colab_type": "text"
      },
      "source": [
        "## 모델 평가"
      ]
    },
    {
      "cell_type": "code",
      "metadata": {
        "id": "5jsagtehEr2Q",
        "colab_type": "code",
        "colab": {
          "base_uri": "https://localhost:8080/",
          "height": 51
        },
        "outputId": "0e2ce60a-bd32-4ea4-e761-970779086075"
      },
      "source": [
        "model.evaluate(x_test, y_test)"
      ],
      "execution_count": 14,
      "outputs": [
        {
          "output_type": "stream",
          "text": [
            "10000/10000 [==============================] - 1s 100us/step\n"
          ],
          "name": "stdout"
        },
        {
          "output_type": "execute_result",
          "data": {
            "text/plain": [
              "[1.4576793224334716, 0.4805]"
            ]
          },
          "metadata": {
            "tags": []
          },
          "execution_count": 14
        }
      ]
    },
    {
      "cell_type": "code",
      "metadata": {
        "id": "3_Zr5aftFDO-",
        "colab_type": "code",
        "colab": {}
      },
      "source": [
        "CLASSES = np.array(['airplane','automobile','bird','cat','deer','dog','frog','horse','ship','truck'])\n",
        "\n",
        "preds = model.predict(x_test)\n",
        "preds_single = CLASSES[np.argmax(preds, axis = -1)]\n",
        "actual_single = CLASSES[np.argmax(y_test, axis= -1)]"
      ],
      "execution_count": 0,
      "outputs": []
    },
    {
      "cell_type": "code",
      "metadata": {
        "id": "eVaNBe61FaYg",
        "colab_type": "code",
        "colab": {
          "base_uri": "https://localhost:8080/",
          "height": 158
        },
        "outputId": "f80cbeb1-40f6-4296-d78d-1527d5e9fac4"
      },
      "source": [
        "n_to_show = 10\n",
        "indices = np.random.choice(range(len(x_test)), n_to_show)\n",
        "\n",
        "fig = plt.figure(figsize = (15,3))\n",
        "fig.subplots_adjust(hspace=0.4, wspace=0.4)\n",
        "\n",
        "for i, idx in enumerate(indices):\n",
        "  img = x_test[idx]\n",
        "  ax = fig.add_subplot(1, n_to_show, i+1)\n",
        "  ax.axis('off')\n",
        "  ax.text(0.5, -0.35, 'pred = ' + str(preds_single[idx]), fontsize=10, ha='center', transform=ax.transAxes) \n",
        "  ax.text(0.5, -0.7, 'act = ' + str(actual_single[idx]), fontsize=10, ha='center',\n",
        "          transform=ax.transAxes)\n",
        "  ax.imshow(img)"
      ],
      "execution_count": 26,
      "outputs": [
        {
          "output_type": "display_data",
          "data": {
            "image/png": "[encoded data removed]",
            "text/plain": [
              "<Figure size 1080x216 with 10 Axes>"
            ]
          },
          "metadata": {
            "tags": []
          }
        }
      ]
    },
    {
      "cell_type": "code",
      "metadata": {
        "id": "7DaKNPgvGQst",
        "colab_type": "code",
        "colab": {}
      },
      "source": [
        ""
      ],
      "execution_count": 0,
      "outputs": []
    }
  ]
}