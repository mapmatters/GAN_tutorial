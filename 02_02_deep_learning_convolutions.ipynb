{
  "nbformat": 4,
  "nbformat_minor": 0,
  "metadata": {
    "colab": {
      "name": "02_02_deep_learning_convolutions.ipynb",
      "provenance": [],
      "collapsed_sections": [],
      "authorship_tag": "ABX9TyP2s3fCaFr57UrJ6AW60xmd",
      "include_colab_link": true
    },
    "kernelspec": {
      "name": "python3",
      "display_name": "Python 3"
    }
  },
  "cells": [
    {
      "cell_type": "markdown",
      "metadata": {
        "id": "view-in-github",
        "colab_type": "text"
      },
      "source": [
        "<a href=\"https://colab.research.google.com/github/mapmatters/GAN_tutorial/blob/master/02_02_deep_learning_convolutions.ipynb\" target=\"_parent\"><img src=\"https://colab.research.google.com/assets/colab-badge.svg\" alt=\"Open In Colab\"/></a>"
      ]
    },
    {
      "cell_type": "markdown",
      "metadata": {
        "id": "0zdxjWaQhR4s",
        "colab_type": "text"
      },
      "source": [
        "## 합성곱"
      ]
    },
    {
      "cell_type": "markdown",
      "metadata": {
        "id": "ks9wnN_AhZfw",
        "colab_type": "text"
      },
      "source": [
        "### 라이브러리 임포트"
      ]
    },
    {
      "cell_type": "code",
      "metadata": {
        "id": "36ub6tMghMmo",
        "colab_type": "code",
        "colab": {}
      },
      "source": [
        "%matplotlib inline\n",
        "import matplotlib.pyplot as plt\n",
        "from scipy.ndimage import correlate\n",
        "import numpy as np\n",
        "from skimage import data\n",
        "from skimage.color import rgb2gray\n",
        "from skimage.transform import rescale, resize"
      ],
      "execution_count": 0,
      "outputs": []
    },
    {
      "cell_type": "markdown",
      "metadata": {
        "id": "csfYIBq1huAL",
        "colab_type": "text"
      },
      "source": [
        "### 원본이미지"
      ]
    },
    {
      "cell_type": "code",
      "metadata": {
        "id": "8ygMXwhphqru",
        "colab_type": "code",
        "colab": {
          "base_uri": "https://localhost:8080/",
          "height": 265
        },
        "outputId": "73e4ffd4-5d32-492b-d5ae-2366048fd8f6"
      },
      "source": [
        "im = rgb2gray(data.coffee())\n",
        "im = resize(im, (64,64))\n",
        "print(im.shape)\n",
        "\n",
        "plt.axis('off')\n",
        "plt.imshow(im, cmap='gray');"
      ],
      "execution_count": 8,
      "outputs": [
        {
          "output_type": "stream",
          "text": [
            "(64, 64)\n"
          ],
          "name": "stdout"
        },
        {
          "output_type": "display_data",
          "data": {
            "image/png": "[encoded data removed]",
            "text/plain": [
              "<Figure size 432x288 with 1 Axes>"
            ]
          },
          "metadata": {
            "tags": []
          }
        }
      ]
    },
    {
      "cell_type": "markdown",
      "metadata": {
        "id": "M0R8fA-Uh4Xw",
        "colab_type": "text"
      },
      "source": [
        "### 수평 모서리 필터"
      ]
    },
    {
      "cell_type": "code",
      "metadata": {
        "id": "m_ac60s-h29H",
        "colab_type": "code",
        "colab": {
          "base_uri": "https://localhost:8080/",
          "height": 611
        },
        "outputId": "9924e24a-fefc-4f0c-c52e-9a84e5471d21"
      },
      "source": [
        "filter1 = np.array([    \n",
        "    [ 1,  1,  1],\n",
        "    [ 0,  0,  0],\n",
        "    [-1, -1, -1]\n",
        "])\n",
        "\n",
        "\n",
        "new_image = np.zeros(im.shape)\n",
        "im_pad = np.pad(im, 1, 'constant')\n",
        "print(new_image)\n",
        "\n",
        "for i in range(im.shape[0]):\n",
        "  for j in range(im.shape[1]):\n",
        "    try:\n",
        "      new_image[i,j] = \\\n",
        "      im_pad[i-1,j-1] * filter1[0,0] + \\\n",
        "      im_pad[i-1,j] * filter1[0,1] + \\\n",
        "      im_pad[i-1,j+1] * filter1[0,2] + \\\n",
        "      im_pad[i,j-1] * filter1[1,0] + \\\n",
        "      im_pad[i,j] * filter1[1,1] + \\\n",
        "      im_pad[i,j+1] * filter1[1,2] +\\\n",
        "      im_pad[i+1,j-1] * filter1[2,0] + \\\n",
        "      im_pad[i+1,j] * filter1[2,1] + \\\n",
        "      im_pad[i+1,j+1] * filter1[2,2] \n",
        "    except:\n",
        "      pass\n",
        "\n",
        "print(new_image)\n",
        "print(im.shape)\n",
        "plt.axis('off')\n",
        "plt.imshow(new_image, cmap='Greys');"
      ],
      "execution_count": 11,
      "outputs": [
        {
          "output_type": "stream",
          "text": [
            "[[0. 0. 0. ... 0. 0. 0.]\n",
            " [0. 0. 0. ... 0. 0. 0.]\n",
            " [0. 0. 0. ... 0. 0. 0.]\n",
            " ...\n",
            " [0. 0. 0. ... 0. 0. 0.]\n",
            " [0. 0. 0. ... 0. 0. 0.]\n",
            " [0. 0. 0. ... 0. 0. 0.]]\n",
            "[[-5.91282217e-02 -1.25147810e-01 -2.09005900e-01 ... -1.92371184e+00\n",
            "  -2.01554218e+00 -2.09083001e+00]\n",
            " [-5.66856887e-02 -1.24808276e-01 -2.11641360e-01 ... -1.97874773e+00\n",
            "  -2.11577624e+00 -2.14974525e+00]\n",
            " [-2.35257696e-04 -6.11007288e-03 -1.31426356e-02 ... -9.62832960e-02\n",
            "  -1.40728578e-01 -8.97058422e-02]\n",
            " ...\n",
            " [-4.70276968e-02  1.61905868e-02  8.77825024e-02 ...  5.92946507e-02\n",
            "   4.62024412e-02  5.87009385e-02]\n",
            " [ 1.83580546e-02  7.27143585e-02  8.52150229e-02 ...  1.58120532e-02\n",
            "   8.12345713e-03  3.27752761e-02]\n",
            " [ 3.10721536e-02  3.01866200e-03 -5.50594522e-02 ... -4.72228495e-02\n",
            "  -2.67855314e-03  2.73750954e-02]]\n",
            "(64, 64)\n"
          ],
          "name": "stdout"
        },
        {
          "output_type": "display_data",
          "data": {
            "image/png": "[encoded data removed]",
            "text/plain": [
              "<Figure size 432x288 with 1 Axes>"
            ]
          },
          "metadata": {
            "tags": []
          }
        }
      ]
    },
    {
      "cell_type": "markdown",
      "metadata": {
        "id": "1ZV9IPDhjNK7",
        "colab_type": "text"
      },
      "source": [
        "### 수직 모서리 필터"
      ]
    },
    {
      "cell_type": "code",
      "metadata": {
        "id": "7OWFONmkiimG",
        "colab_type": "code",
        "colab": {
          "base_uri": "https://localhost:8080/",
          "height": 248
        },
        "outputId": "51cd03cc-0482-4414-f5b4-f729275c0bb3"
      },
      "source": [
        "filter2 = np.array([\n",
        "    [ -1,  0,  1],\n",
        "    [ -1,  0,  1],\n",
        "    [ -1,  0,  1]\n",
        "])\n",
        "\n",
        "new_image = np.zeros(im.shape)\n",
        "\n",
        "im_pad = np.pad(im,1, 'constant')\n",
        "\n",
        "for i in range(im.shape[0]):\n",
        "    for j in range(im.shape[1]):\n",
        "        try:\n",
        "            new_image[i,j] = \\\n",
        "            im_pad[i-1,j-1] * filter2[0,0] + \\\n",
        "            im_pad[i-1,j] * filter2[0,1] + \\\n",
        "            im_pad[i-1,j+1] * filter2[0,2] + \\\n",
        "            im_pad[i,j-1] * filter2[1,0] + \\\n",
        "            im_pad[i,j] * filter2[1,1] + \\\n",
        "            im_pad[i,j+1] * filter2[1,2] +\\\n",
        "            im_pad[i+1,j-1] * filter2[2,0] + \\\n",
        "            im_pad[i+1,j] * filter2[2,1] + \\\n",
        "            im_pad[i+1,j+1] * filter2[2,2] \n",
        "        except:\n",
        "            pass\n",
        "\n",
        "plt.axis('off')\n",
        "plt.imshow(new_image, cmap='Greys');"
      ],
      "execution_count": 12,
      "outputs": [
        {
          "output_type": "display_data",
          "data": {
            "image/png": "[encoded data removed]",
            "text/plain": [
              "<Figure size 432x288 with 1 Axes>"
            ]
          },
          "metadata": {
            "tags": []
          }
        }
      ]
    },
    {
      "cell_type": "markdown",
      "metadata": {
        "id": "8XfGYJZtjTUI",
        "colab_type": "text"
      },
      "source": [
        "### 스트라이드=2 수평 모서리 필터"
      ]
    },
    {
      "cell_type": "code",
      "metadata": {
        "id": "iP8_aXKRjSMZ",
        "colab_type": "code",
        "colab": {
          "base_uri": "https://localhost:8080/",
          "height": 248
        },
        "outputId": "d404a40a-481f-45ca-e22e-a2e971e22af1"
      },
      "source": [
        "filter1 = np.array([\n",
        "    [ 1,  1,  1],\n",
        "    [ 0,  0,  0],\n",
        "    [-1, -1, -1]\n",
        "])\n",
        "\n",
        "stride = 2\n",
        "\n",
        "new_image = np.zeros((int(im.shape[0] / stride), int(im.shape[1] / stride)))\n",
        "\n",
        "im_pad = np.pad(im,1, 'constant')\n",
        "\n",
        "for i in range(0,im.shape[0],stride):\n",
        "    for j in range(0,im.shape[1],stride):\n",
        "        try:\n",
        "            new_image[int(i/stride),int(j/stride)] = \\\n",
        "            im_pad[i-1,j-1] * filter1[0,0] + \\\n",
        "            im_pad[i-1,j] * filter1[0,1] + \\\n",
        "            im_pad[i-1,j+1] * filter1[0,2] + \\\n",
        "            im_pad[i,j-1] * filter1[1,0] + \\\n",
        "            im_pad[i,j] * filter1[1,1] + \\\n",
        "            im_pad[i,j+1] * filter1[1,2] +\\\n",
        "            im_pad[i+1,j-1] * filter1[2,0] + \\\n",
        "            im_pad[i+1,j] * filter1[2,1] + \\\n",
        "            im_pad[i+1,j+1] * filter1[2,2] \n",
        "        except:\n",
        "            pass\n",
        "\n",
        "plt.axis('off')\n",
        "plt.imshow(new_image, cmap='Greys');"
      ],
      "execution_count": 14,
      "outputs": [
        {
          "output_type": "display_data",
          "data": {
            "image/png": "[encoded data removed]",
            "text/plain": [
              "<Figure size 432x288 with 1 Axes>"
            ]
          },
          "metadata": {
            "tags": []
          }
        }
      ]
    },
    {
      "cell_type": "markdown",
      "metadata": {
        "id": "eMDMpRl1jjAk",
        "colab_type": "text"
      },
      "source": [
        "스트라이드=2 수직 모서리 필터"
      ]
    },
    {
      "cell_type": "code",
      "metadata": {
        "id": "VtReqk__jXdC",
        "colab_type": "code",
        "colab": {
          "base_uri": "https://localhost:8080/",
          "height": 248
        },
        "outputId": "14fab8b2-174b-4c83-856f-38fbc91ebce0"
      },
      "source": [
        "filter2 = np.array([\n",
        "    [ -1,  0,  1],\n",
        "    [ -1,  0,  1],\n",
        "    [ -1,  0,  1]\n",
        "])\n",
        "\n",
        "stride = 2\n",
        "\n",
        "new_image = np.zeros((int(im.shape[0] / stride), int(im.shape[1] / stride)))\n",
        "\n",
        "im_pad = np.pad(im,1, 'constant')\n",
        "\n",
        "for i in range(0,im.shape[0],stride):\n",
        "    for j in range(0,im.shape[1],stride):\n",
        "        try:\n",
        "            new_image[int(i/stride),int(j/stride)] = \\\n",
        "            im_pad[i-1,j-1] * filter2[0,0] + \\\n",
        "            im_pad[i-1,j] * filter2[0,1] + \\\n",
        "            im_pad[i-1,j+1] * filter2[0,2] + \\\n",
        "            im_pad[i,j-1] * filter2[1,0] + \\\n",
        "            im_pad[i,j] * filter2[1,1] + \\\n",
        "            im_pad[i,j+1] * filter2[1,2] +\\\n",
        "            im_pad[i+1,j-1] * filter2[2,0] + \\\n",
        "            im_pad[i+1,j] * filter2[2,1] + \\\n",
        "            im_pad[i+1,j+1] * filter2[2,2] \n",
        "        except:\n",
        "            pass\n",
        "\n",
        "plt.axis('off')\n",
        "plt.imshow(new_image, cmap='Greys');"
      ],
      "execution_count": 15,
      "outputs": [
        {
          "output_type": "display_data",
          "data": {
            "image/png": "[encoded data removed]",
            "text/plain": [
              "<Figure size 432x288 with 1 Axes>"
            ]
          },
          "metadata": {
            "tags": []
          }
        }
      ]
    },
    {
      "cell_type": "code",
      "metadata": {
        "id": "BITuJeVNjiYI",
        "colab_type": "code",
        "colab": {}
      },
      "source": [
        ""
      ],
      "execution_count": 0,
      "outputs": []
    }
  ]
}